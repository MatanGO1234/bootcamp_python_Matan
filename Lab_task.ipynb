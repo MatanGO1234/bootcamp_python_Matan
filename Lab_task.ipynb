{
 "cells": [
  {
   "cell_type": "markdown",
   "metadata": {},
   "source": [
    "Import"
   ]
  },
  {
   "cell_type": "code",
   "execution_count": 2,
   "metadata": {},
   "outputs": [],
   "source": [
    "import numpy as np\n",
    "import matplotlib.pyplot as plt\n",
    "from scipy.signal import butter, filtfilt\n",
    "from ipywidgets import interact, FloatSlider, IntSlider\n",
    "from scipy.stats import t\n",
    "from scipy.stats import norm\n",
    "from ipywidgets import interact\n",
    "from statsmodels.stats.multitest import fdrcorrection\n"
   ]
  },
  {
   "cell_type": "markdown",
   "metadata": {},
   "source": [
    "Parametes"
   ]
  },
  {
   "cell_type": "code",
   "execution_count": 3,
   "metadata": {},
   "outputs": [],
   "source": [
    "# Parameters\n",
    "alpha = 0.05\n",
    "sampling_rate = 30000  # Hz\n",
    "refractory_period = 0.002  # 2 ms\n",
    "min_distance = int(refractory_period * sampling_rate)\n",
    "time_to_rise = 0.001  # 1 ms\n",
    "window_size = int(time_to_rise * sampling_rate * 3)  # Further extended window size"
   ]
  },
  {
   "cell_type": "markdown",
   "metadata": {},
   "source": [
    "Function for filtering"
   ]
  },
  {
   "cell_type": "code",
   "execution_count": 4,
   "metadata": {},
   "outputs": [],
   "source": [
    "def band_pass_filter(signal, lowcut, highcut, sampling_rate=30000):\n",
    "    nyquist = 0.5 * sampling_rate\n",
    "    b, a = butter(2, [lowcut / nyquist, highcut / nyquist], btype=\"band\")\n",
    "    return filtfilt(b, a, signal)\n"
   ]
  },
  {
   "cell_type": "markdown",
   "metadata": {},
   "source": [
    "Apply FDR correction"
   ]
  },
  {
   "cell_type": "code",
   "execution_count": 5,
   "metadata": {},
   "outputs": [],
   "source": [
    "def apply_fdr(signal, alpha):\n",
    "    p_values = 2 * (1 - norm.cdf(np.abs(filtered_signal / np.std(filtered_signal))))\n",
    "    print(f\"Min p-value: {np.min(p_values)}, Max p-value: {np.max(p_values)}\")\n",
    "    significant, corrected_p_values = fdrcorrection(p_values, alpha=alpha)\n",
    "    return significant\n",
    "\n",
    "def detect_spikes_with_fdr(signal, significant_indices, min_distance):\n",
    "    spikes = []\n",
    "    for idx in significant_indices:\n",
    "        if len(spikes) == 0 or idx - spikes[-1] > min_distance:\n",
    "            spikes.append(idx)\n",
    "    return np.array(spikes)\n"
   ]
  },
  {
   "cell_type": "markdown",
   "metadata": {},
   "source": [
    "Detect significat spikes"
   ]
  },
  {
   "cell_type": "code",
   "execution_count": 6,
   "metadata": {},
   "outputs": [],
   "source": [
    "def detect_spikes(signal, lower_threshold, upper_threshold, significant, min_distance):\n",
    "    positive_spikes = detect_spikes_with_fdr(\n",
    "        signal, np.where((signal > upper_threshold) & significant)[0], min_distance\n",
    "    )\n",
    "    negative_spikes = detect_spikes_with_fdr(\n",
    "        signal, np.where((signal < lower_threshold) & significant)[0], min_distance\n",
    "    )\n",
    "    return positive_spikes, negative_spikes\n"
   ]
  },
  {
   "cell_type": "markdown",
   "metadata": {},
   "source": [
    "Plot functions"
   ]
  },
  {
   "cell_type": "markdown",
   "metadata": {},
   "source": [
    "Interactive plot for signal with spikes"
   ]
  },
  {
   "cell_type": "code",
   "execution_count": 7,
   "metadata": {},
   "outputs": [],
   "source": [
    "# Interactive plot for signal with spikes\n",
    "from ipywidgets import interact, IntRangeSlider\n",
    "\n",
    "\n",
    "def interactive_signal_plot_with_zoom(\n",
    "    signal, positive_indices, positive_values, negative_indices, negative_values, positive_fdr, negative_fdr\n",
    "):\n",
    "    def plot(x_range):\n",
    "        x_min, x_max = x_range\n",
    "        plt.figure(figsize=(12, 6))\n",
    "        plt.plot(signal, color=\"lightblue\", label=\"Filtered Signal\")\n",
    "        if not np.isnan(positive_fdr):\n",
    "            plt.axhline(positive_fdr, color=\"green\", linestyle=\"--\", label=\"Positive FDR Threshold\")\n",
    "        if not np.isnan(negative_fdr):\n",
    "            plt.axhline(negative_fdr, color=\"green\", linestyle=\"--\", label=\"Negative FDR Threshold\")\n",
    "        plt.scatter(\n",
    "            positive_indices, positive_values, color=\"red\", label=\"Positive Spikes\", zorder=10, edgecolors=\"black\"\n",
    "        )\n",
    "        plt.scatter(\n",
    "            negative_indices, negative_values, color=\"blue\", label=\"Negative Spikes\", zorder=10, edgecolors=\"black\"\n",
    "        )\n",
    "\n",
    "        # Add mean lines\n",
    "        if len(positive_values) > 0:\n",
    "            mean_positive_amplitude = np.mean(positive_values)\n",
    "            plt.axhline(mean_positive_amplitude, color=\"red\", linestyle=\"dotted\", label=\"Mean Positive Spike Amplitude\")\n",
    "            mean_positive_index = np.mean(positive_indices)\n",
    "            plt.axvline(mean_positive_index, color=\"red\", linestyle=\"dotted\", label=\"Mean Positive Spike Index\")\n",
    "        if len(negative_values) > 0:\n",
    "            mean_negative_amplitude = np.mean(negative_values)\n",
    "            plt.axhline(\n",
    "                mean_negative_amplitude, color=\"blue\", linestyle=\"dotted\", label=\"Mean Negative Spike Amplitude\"\n",
    "            )\n",
    "            mean_negative_index = np.mean(negative_indices)\n",
    "            plt.axvline(mean_negative_index, color=\"blue\", linestyle=\"dotted\", label=\"Mean Negative Spike Index\")\n",
    "\n",
    "        plt.xlim(x_min, x_max)\n",
    "        plt.title(\"Interactive Signal with Detected Spikes\")\n",
    "        plt.xlabel(\"Sample Index\")\n",
    "        plt.ylabel(\"Amplitude (µV)\")\n",
    "        plt.legend(loc=\"lower left\", fontsize=8)\n",
    "        plt.grid()\n",
    "        plt.tight_layout()\n",
    "        plt.show()\n",
    "\n",
    "    # Create IntRangeSlider for zoom\n",
    "    x_slider = IntRangeSlider(\n",
    "        value=[0, len(signal)],\n",
    "        min=0,\n",
    "        max=len(signal),\n",
    "        step=100,\n",
    "        description=\"X Range:\",\n",
    "        continuous_update=False,\n",
    "    )\n",
    "\n",
    "    # Connect slider to plot function\n",
    "    interact(plot, x_range=x_slider)\n"
   ]
  },
  {
   "cell_type": "code",
   "execution_count": 8,
   "metadata": {},
   "outputs": [],
   "source": [
    "def histogram_plot(signal, positive_spikes, negative_spikes, positive_threshold, negative_threshold):\n",
    "    x = np.linspace(signal.min(), signal.max(), 1000)\n",
    "    hist, bins = np.histogram(signal, bins=50, density=True)\n",
    "    bin_centers = 0.5 * (bins[:-1] + bins[1:])\n",
    "    pdf = (1 / (np.std(signal) * np.sqrt(2 * np.pi))) * np.exp(-0.5 * ((x - np.mean(signal)) / np.std(signal)) ** 2)\n",
    "\n",
    "    plt.figure(figsize=(12, 6))\n",
    "    plt.bar(bin_centers, hist, width=(bins[1] - bins[0]), alpha=0.6, label=\"Signal Histogram\")\n",
    "    plt.plot(x, pdf, color=\"blue\", label=\"Normal Distribution\", linewidth=2)\n",
    "    if not np.isnan(positive_threshold):\n",
    "        plt.axvline(positive_threshold, color=\"green\", linestyle=\"--\", label=\"Positive FDR Threshold\")\n",
    "    if not np.isnan(negative_threshold):\n",
    "        plt.axvline(negative_threshold, color=\"green\", linestyle=\"--\", label=\"Negative FDR Threshold\")\n",
    "    plt.scatter(positive_spikes, np.zeros_like(positive_spikes), color=\"red\", label=\"Positive Spikes\", zorder=10)\n",
    "    plt.scatter(negative_spikes, np.zeros_like(negative_spikes), color=\"blue\", label=\"Negative Spikes\", zorder=10)\n",
    "\n",
    "    plt.title(\"Histogram with Normal Distribution\")\n",
    "    plt.xlabel(\"Amplitude (µV)\")\n",
    "    plt.ylabel(\"Density\")\n",
    "    plt.legend(loc=\"lower left\", fontsize=8)\n",
    "    plt.grid()\n",
    "    plt.tight_layout()\n",
    "    plt.show()\n"
   ]
  },
  {
   "cell_type": "markdown",
   "metadata": {},
   "source": [
    "Main code"
   ]
  },
  {
   "cell_type": "code",
   "execution_count": 9,
   "metadata": {},
   "outputs": [
    {
     "name": "stdout",
     "output_type": "stream",
     "text": [
      "Min p-value: 0.0, Max p-value: 0.9998832690328217\n",
      "Min p-value: 0.0, Max p-value: 0.9999425373121074\n",
      "Number of significant values: 218\n",
      "Number of significant positive values: 165\n",
      "Number of significant negative values: 53\n",
      "Total number of values in signal: 30000\n",
      "Number of non-significant values: 29782\n"
     ]
    }
   ],
   "source": [
    "# Load and preprocess the signal\n",
    "signal = np.load(\"C:\\\\test1\\\\matan_bootcamp_python\\\\bic13-ch259.npy\")[:30000]\n",
    "filtered_signal = band_pass_filter(signal, lowcut=300, highcut=3000)\n",
    "# Apply FDR correction\n",
    "significant = apply_fdr(filtered_signal, alpha)\n",
    "\n",
    "# Calculate p-values for FDR\n",
    "p_values = 2 * (1 - norm.cdf(np.abs((filtered_signal - np.mean(filtered_signal)) / np.std(filtered_signal))))\n",
    "print(f\"Min p-value: {np.min(p_values)}, Max p-value: {np.max(p_values)}\")\n",
    "\n",
    "# Debugging FDR significant counts\n",
    "print(f\"Number of significant values: {np.sum(significant)}\")\n",
    "print(f\"Number of significant positive values: {np.sum(significant & (filtered_signal > 0))}\")\n",
    "print(f\"Number of significant negative values: {np.sum(significant & (filtered_signal < 0))}\")\n",
    "\n",
    "# Detect positive and negative spikes separately using FDR\n",
    "positive_spike_indices, negative_spike_indices = detect_spikes(\n",
    "    filtered_signal, lower_threshold=-20, upper_threshold=20, significant=significant, min_distance=min_distance\n",
    ")\n",
    "\n",
    "positive_spike_values = filtered_signal[positive_spike_indices]\n",
    "negative_spike_values = filtered_signal[negative_spike_indices]\n",
    "\n",
    "# Calculate FDR thresholds\n",
    "positive_fdr = (\n",
    "    np.min(filtered_signal[(filtered_signal > 0) & significant])\n",
    "    if np.any((filtered_signal > 0) & significant)\n",
    "    else np.nan\n",
    ")\n",
    "negative_fdr = (\n",
    "    np.max(filtered_signal[(filtered_signal < 0) & significant])\n",
    "    if np.any((filtered_signal < 0) & significant)\n",
    "    else np.nan\n",
    ")\n",
    "print(f\"Total number of values in signal: {len(filtered_signal)}\")\n",
    "print(f\"Number of non-significant values: {len(filtered_signal) - np.sum(significant)}\")\n"
   ]
  },
  {
   "cell_type": "markdown",
   "metadata": {},
   "source": [
    "Plot results"
   ]
  },
  {
   "cell_type": "code",
   "execution_count": 10,
   "metadata": {},
   "outputs": [
    {
     "data": {
      "application/vnd.jupyter.widget-view+json": {
       "model_id": "da6e364f8d054c0cb76fcd23ad44f3d7",
       "version_major": 2,
       "version_minor": 0
      },
      "text/plain": [
       "interactive(children=(IntRangeSlider(value=(0, 30000), continuous_update=False, description='X Range:', max=30…"
      ]
     },
     "metadata": {},
     "output_type": "display_data"
    },
    {
     "data": {
      "image/png": "[encoded data removed]",
      "text/plain": [
       "<Figure size 1200x600 with 1 Axes>"
      ]
     },
     "metadata": {},
     "output_type": "display_data"
    },
    {
     "name": "stdout",
     "output_type": "stream",
     "text": [
      "Mean Negative Spike Amplitude: -25.80 µV\n",
      "Mean Positive Spike Amplitude: 23.63 µV\n",
      "Number of positive spikes detected: 26\n",
      "Number of negative spikes detected: 6\n"
     ]
    }
   ],
   "source": [
    "# Interactive signal plot\n",
    "\n",
    "interactive_signal_plot_with_zoom(\n",
    "    filtered_signal,\n",
    "    positive_spike_indices,\n",
    "    positive_spike_values,\n",
    "    negative_spike_indices,\n",
    "    negative_spike_values,\n",
    "    positive_fdr=positive_fdr,\n",
    "    negative_fdr=negative_fdr,\n",
    ")\n",
    "\n",
    "# Interactive histogram plot\n",
    "histogram_plot(\n",
    "    filtered_signal,\n",
    "    positive_spike_values,\n",
    "    negative_spike_values,\n",
    "    positive_threshold=positive_fdr,\n",
    "    negative_threshold=negative_fdr,\n",
    ")\n",
    "\n",
    "# Calculate mean of detected spikes\n",
    "if len(negative_spike_values) > 0 or len(positive_spike_values) > 0:\n",
    "    mean_negative_amplitude = np.mean(negative_spike_values) if len(negative_spike_values) > 0 else 0\n",
    "    mean_positive_amplitude = np.mean(positive_spike_values) if len(positive_spike_values) > 0 else 0\n",
    "    print(f\"Mean Negative Spike Amplitude: {mean_negative_amplitude:.2f} µV\")\n",
    "    print(f\"Mean Positive Spike Amplitude: {mean_positive_amplitude:.2f} µV\")\n",
    "else:\n",
    "    print(\"No spikes detected.\")\n",
    "print(f\"Number of positive spikes detected: {len(positive_spike_indices)}\")\n",
    "print(f\"Number of negative spikes detected: {len(negative_spike_indices)}\")\n"
   ]
  }
 ],
 "metadata": {
  "kernelspec": {
   "display_name": "new_env",
   "language": "python",
   "name": "python3"
  },
  "language_info": {
   "codemirror_mode": {
    "name": "ipython",
    "version": 3
   },
   "file_extension": ".py",
   "mimetype": "text/x-python",
   "name": "python",
   "nbconvert_exporter": "python",
   "pygments_lexer": "ipython3",
   "version": "3.13.0"
  }
 },
 "nbformat": 4,
 "nbformat_minor": 2
}
