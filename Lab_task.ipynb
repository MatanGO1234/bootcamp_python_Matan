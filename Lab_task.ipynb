{
 "cells": [
  {
   "cell_type": "markdown",
   "metadata": {},
   "source": [
    "Import"
   ]
  },
  {
   "cell_type": "code",
   "execution_count": 10,
   "metadata": {},
   "outputs": [],
   "source": [
    "import numpy as np\n",
    "import matplotlib.pyplot as plt\n",
    "from scipy.signal import butter, filtfilt\n",
    "from ipywidgets import interact, FloatSlider, IntSlider\n"
   ]
  },
  {
   "cell_type": "markdown",
   "metadata": {},
   "source": [
    "Band pass for cleaning the noise"
   ]
  },
  {
   "cell_type": "code",
   "execution_count": 11,
   "metadata": {},
   "outputs": [],
   "source": [
    "from scipy.signal import butter, filtfilt\n",
    "\n",
    "\n",
    "def band_pass_filter(signal, lowcut=None, highcut=None, sampling_rate=30000):\n",
    "    \"\"\"\n",
    "    Apply a band-pass, low-pass, or high-pass filter to the signal.\n",
    "\n",
    "    Parameters:\n",
    "        signal (np.ndarray): The input signal.\n",
    "        lowcut (float or None): The lower cutoff frequency (Hz) or None for no lower bound.\n",
    "        highcut (float or None): The upper cutoff frequency (Hz) or None for no upper bound.\n",
    "        sampling_rate (float): The sampling rate of the signal (Hz).\n",
    "\n",
    "    Returns:\n",
    "        np.ndarray: The filtered signal.\n",
    "    \"\"\"\n",
    "    nyquist = 0.5 * sampling_rate\n",
    "\n",
    "    if lowcut is None and highcut is None:\n",
    "        raise ValueError(\"At least one of lowcut or highcut must be specified.\")\n",
    "\n",
    "    if lowcut is None:  # Low-pass filter\n",
    "        high = highcut / nyquist\n",
    "        b, a = butter(2, high, btype=\"low\")\n",
    "    elif highcut is None:  # High-pass filter\n",
    "        low = lowcut / nyquist\n",
    "        b, a = butter(2, low, btype=\"high\")\n",
    "    else:  # Band-pass filter\n",
    "        low = lowcut / nyquist\n",
    "        high = highcut / nyquist\n",
    "        b, a = butter(2, [low, high], btype=\"band\")\n",
    "\n",
    "    return filtfilt(b, a, signal)\n"
   ]
  },
  {
   "cell_type": "markdown",
   "metadata": {},
   "source": [
    "Identify spikes"
   ]
  },
  {
   "cell_type": "code",
   "execution_count": 12,
   "metadata": {},
   "outputs": [],
   "source": [
    "def detect_spike_starts(signal, lower_threshold, upper_threshold, min_distance=30):\n",
    "    \"\"\"\n",
    "    Detect spike start indices in a signal based on amplitude thresholds.\n",
    "\n",
    "    Parameters:\n",
    "        signal (np.ndarray): The filtered signal.\n",
    "        lower_threshold (float): Minimum amplitude threshold for detecting spikes.\n",
    "        upper_threshold (float): Maximum amplitude threshold for detecting spikes.\n",
    "        min_distance (int): Minimum distance between consecutive spikes (in samples).\n",
    "\n",
    "    Returns:\n",
    "        np.ndarray: Indices of detected spike starts.\n",
    "    \"\"\"\n",
    "    spikes = np.where((signal < lower_threshold) | (signal > upper_threshold))[0]\n",
    "    if len(spikes) == 0:\n",
    "        return np.array([])\n",
    "\n",
    "    selected_spikes = [spikes[0]]\n",
    "    for spike in spikes[1:]:\n",
    "        if spike - selected_spikes[-1] >= min_distance:\n",
    "            selected_spikes.append(spike)\n",
    "\n",
    "    return np.array(selected_spikes)\n"
   ]
  },
  {
   "cell_type": "markdown",
   "metadata": {},
   "source": [
    "Function for Spike Classification"
   ]
  },
  {
   "cell_type": "code",
   "execution_count": 13,
   "metadata": {},
   "outputs": [],
   "source": [
    "def classify_spikes(signal, spike_starts, window=50, lower_threshold=-5, upper_threshold=5):\n",
    "    \"\"\"\n",
    "    Classify spikes into unipolar or bipolar types.\n",
    "\n",
    "    Parameters:\n",
    "        signal (np.ndarray): The filtered signal.\n",
    "        spike_starts (np.ndarray): Indices of detected spike starts.\n",
    "        window (int): Number of samples around the spike start to analyze.\n",
    "        lower_threshold (float): Lower amplitude threshold.\n",
    "        upper_threshold (float): Upper amplitude threshold.\n",
    "\n",
    "    Returns:\n",
    "        dict: Dictionary with spike indices and their types ('unipolar' or 'bipolar').\n",
    "    \"\"\"\n",
    "    classifications = {}\n",
    "    for spike in spike_starts:\n",
    "        spike_window = signal[spike : spike + window]\n",
    "        min_value = np.min(spike_window)\n",
    "        max_value = np.max(spike_window)\n",
    "        if min_value < lower_threshold and max_value > upper_threshold:\n",
    "            classifications[spike] = \"bipolar\"\n",
    "        elif min_value < lower_threshold or max_value > upper_threshold:\n",
    "            classifications[spike] = \"unipolar\"\n",
    "        else:\n",
    "            classifications[spike] = \"none\"\n",
    "    return classifications\n"
   ]
  },
  {
   "cell_type": "markdown",
   "metadata": {},
   "source": [
    "Graph of the spikes (Plotting)"
   ]
  },
  {
   "cell_type": "code",
   "execution_count": 14,
   "metadata": {},
   "outputs": [],
   "source": [
    "def plot_spikes(signal, spike_starts, classifications, window=50):\n",
    "    \"\"\"\n",
    "    Plot spikes and classify them with markers.\n",
    "\n",
    "    Parameters:\n",
    "        signal (np.ndarray): The filtered signal.\n",
    "        spike_starts (np.ndarray): Indices of detected spike starts.\n",
    "        classifications (dict): Dictionary of spike indices and their types.\n",
    "        window (int): Window size around each spike start for analysis.\n",
    "    \"\"\"\n",
    "    plt.figure(figsize=(15, 6))\n",
    "    plt.plot(signal, label=\"Filtered Signal\", alpha=0.7)\n",
    "\n",
    "    # Separate bipolar and unipolar spikes for legend clarity\n",
    "    bipolar_spikes = [spike for spike, spike_type in classifications.items() if spike_type == \"bipolar\"]\n",
    "    unipolar_spikes = [spike for spike, spike_type in classifications.items() if spike_type == \"unipolar\"]\n",
    "\n",
    "    # Add markers for bipolar spikes\n",
    "    plt.scatter(bipolar_spikes, signal[bipolar_spikes], color=\"red\", label=\"Bipolar Spikes\", alpha=0.8)\n",
    "\n",
    "    # Add markers for unipolar spikes\n",
    "    plt.scatter(unipolar_spikes, signal[unipolar_spikes], color=\"yellow\", label=\"Unipolar Spikes\", alpha=0.8)\n",
    "\n",
    "    plt.title(\"Signal with Detected Spikes\")\n",
    "    plt.xlabel(\"Sample Index\")\n",
    "    plt.ylabel(\"Amplitude (µV)\")\n",
    "    plt.legend(loc=\"upper right\")\n",
    "    plt.grid()\n",
    "    plt.show()\n"
   ]
  },
  {
   "cell_type": "markdown",
   "metadata": {},
   "source": [
    "Procceing and activation of functions"
   ]
  },
  {
   "cell_type": "code",
   "execution_count": 27,
   "metadata": {},
   "outputs": [
    {
     "data": {
      "application/vnd.jupyter.widget-view+json": {
       "model_id": "ccc9cb4e8951417e95573fcaecdae4dd",
       "version_major": 2,
       "version_minor": 0
      },
      "text/plain": [
       "interactive(children=(FloatSlider(value=300.0, description='lowcut', max=2000.0, step=50.0), FloatSlider(value…"
      ]
     },
     "metadata": {},
     "output_type": "display_data"
    },
    {
     "data": {
      "text/plain": [
       "<function __main__.interactive_filter(lowcut, highcut)>"
      ]
     },
     "execution_count": 27,
     "metadata": {},
     "output_type": "execute_result"
    }
   ],
   "source": [
    "# Step 1: Upoad the data\n",
    "signal = np.load(r\"C:\\test1\\matan_bootcamp_python\\bic13-ch259.npy\")\n",
    "\n",
    "# Step 2: Trim the signal to 30,000 samples (1 second)\n",
    "signal = signal[:30000]\n",
    "#step 3-5: interactive filtering\n",
    "filtered_signal = band_pass_filter(signal, lowcut=300, highcut=3000)\n",
    "\n",
    "\n",
    "def interactive_filter(lowcut, highcut):\n",
    "    print(f\"Filtering with lowcut={lowcut}, highcut={highcut}\")\n",
    "    filtered_signal = band_pass_filter(signal, lowcut=lowcut, highcut=highcut)\n",
    "\n",
    "    # Display the filtered signal\n",
    "    plt.figure(figsize=(15, 6))\n",
    "    plt.plot(signal[:30000], label=\"Original Signal\", alpha=0.5)\n",
    "    plt.plot(filtered_signal[:30000], label=\"Filtered Signal\", alpha=0.7)\n",
    "    plt.title(f\"Filtered Signal ({lowcut} - {highcut} Hz)\")\n",
    "    plt.xlabel(\"Sample Index\")\n",
    "    plt.ylabel(\"Amplitude\")\n",
    "    plt.legend()\n",
    "    plt.grid()\n",
    "    plt.show()\n",
    "\n",
    "# Interactive widgets for filtering\n",
    "interact(\n",
    "    interactive_filter,\n",
    "    lowcut=FloatSlider(min=0, max=2000, step=50, value=300),\n",
    "    highcut=FloatSlider(min=2000, max=10000, step=50, value=3000),\n",
    ")\n"
   ]
  },
  {
   "cell_type": "code",
   "execution_count": 29,
   "metadata": {},
   "outputs": [
    {
     "data": {
      "application/vnd.jupyter.widget-view+json": {
       "model_id": "abd2f73c6c9b4c4bafa0094b16bf2e78",
       "version_major": 2,
       "version_minor": 0
      },
      "text/plain": [
       "interactive(children=(FloatSlider(value=-5.0, description='lower_threshold', max=0.0, min=-10.0, step=0.5), Fl…"
      ]
     },
     "metadata": {},
     "output_type": "display_data"
    },
    {
     "data": {
      "text/plain": [
       "<function __main__.<lambda>(lower_threshold, upper_threshold, min_distance)>"
      ]
     },
     "execution_count": 29,
     "metadata": {},
     "output_type": "execute_result"
    }
   ],
   "source": [
    "# step 6-7: discover and classify of spokes\n",
    "def interactive_spike_detection(filtered_signal, lower_threshold=-5, upper_threshold=5, min_distance=30):\n",
    "    print(f\"Detecting spikes with thresholds {lower_threshold}, {upper_threshold} and minimum distance {min_distance}\")\n",
    "    \n",
    "      # Ensure the filtered signal is available\n",
    "\n",
    "    if filtered_signal is None:\n",
    "        print(\"Please filter the signal first.\")\n",
    "        return\n",
    "\n",
    "    # Detect spikes\n",
    "    spike_starts = detect_spike_starts(\n",
    "        signal=filtered_signal,\n",
    "        lower_threshold=lower_threshold,\n",
    "        upper_threshold=upper_threshold,\n",
    "        min_distance=min_distance,\n",
    "    )\n",
    "\n",
    "    # Classify spikes\n",
    "    classifications = classify_spikes(filtered_signal, spike_starts)\n",
    "\n",
    "    # Plot spikes\n",
    "    plot_spikes(filtered_signal, spike_starts, classifications)\n",
    "\n",
    "    # Print spike counts\n",
    "    num_bipolar = len([s for s, t in classifications.items() if t == \"bipolar\"])\n",
    "    num_unipolar = len([s for s, t in classifications.items() if t == \"unipolar\"])\n",
    "    print(f\"Number of Bipolar Spikes: {num_bipolar}\")\n",
    "    print(f\"Number of Unipolar Spikes: {num_unipolar}\")\n",
    "\n",
    "\n",
    "# Interactive widgets for spike detection\n",
    "interact(\n",
    "    lambda lower_threshold, upper_threshold, min_distance: interactive_spike_detection(\n",
    "        filtered_signal, lower_threshold, upper_threshold, min_distance\n",
    "    ),\n",
    "    lower_threshold=FloatSlider(min=-10, max=0, step=0.5, value=-5),\n",
    "    upper_threshold=FloatSlider(min=0, max=10, step=0.5, value=5),\n",
    "    min_distance=IntSlider(min=10, max=100, step=10, value=30),\n",
    ")"
   ]
  }
 ],
 "metadata": {
  "kernelspec": {
   "display_name": "new_env",
   "language": "python",
   "name": "python3"
  },
  "language_info": {
   "codemirror_mode": {
    "name": "ipython",
    "version": 3
   },
   "file_extension": ".py",
   "mimetype": "text/x-python",
   "name": "python",
   "nbconvert_exporter": "python",
   "pygments_lexer": "ipython3",
   "version": "3.13.0"
  }
 },
 "nbformat": 4,
 "nbformat_minor": 2
}
