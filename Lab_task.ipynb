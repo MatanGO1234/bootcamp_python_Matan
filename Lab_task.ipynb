{
 "cells": [
  {
   "cell_type": "markdown",
   "metadata": {},
   "source": [
    "# Import"
   ]
  },
  {
   "cell_type": "code",
   "execution_count": 2,
   "metadata": {},
   "outputs": [],
   "source": [
    "import numpy as np\n",
    "import matplotlib.pyplot as plt\n",
    "from scipy.signal import butter, filtfilt\n",
    "from ipywidgets import interact, FloatSlider, IntSlider, IntRangeSlider\n",
    "from scipy.stats import t\n",
    "from scipy.stats import norm\n",
    "from ipywidgets import interact\n",
    "from statsmodels.stats.multitest import fdrcorrection\n"
   ]
  },
  {
   "cell_type": "markdown",
   "metadata": {},
   "source": [
    "# Parametes"
   ]
  },
  {
   "cell_type": "code",
   "execution_count": 104,
   "metadata": {},
   "outputs": [],
   "source": [
    "sampling_rate = 30000  # Hz\n",
    "refractory_period = 0.002  # 2 ms\n",
    "min_distance = int(refractory_period * sampling_rate)\n",
    "alpha = 0.05"
   ]
  },
  {
   "cell_type": "markdown",
   "metadata": {},
   "source": [
    "# Step 1: Data pre-processing"
   ]
  },
  {
   "cell_type": "markdown",
   "metadata": {},
   "source": [
    "## Function for filtering"
   ]
  },
  {
   "cell_type": "code",
   "execution_count": 101,
   "metadata": {},
   "outputs": [],
   "source": [
    "def band_pass_filter(signal, lowcut, highcut, sampling_rate=30000):\n",
    "    nyquist = 0.5 * sampling_rate\n",
    "    b, a = butter(2, [lowcut / nyquist, highcut / nyquist], btype=\"band\")\n",
    "    return filtfilt(b, a, signal)\n"
   ]
  },
  {
   "cell_type": "markdown",
   "metadata": {},
   "source": [
    "## Upload the data and filter"
   ]
  },
  {
   "cell_type": "code",
   "execution_count": 70,
   "metadata": {},
   "outputs": [],
   "source": [
    "signal = np.load(\"C:\\\\test1\\\\matan_bootcamp_python\\\\bic13-ch259.npy\")[:30000]\n",
    "filtered_signal = band_pass_filter(signal, 300, 10000, sampling_rate)"
   ]
  },
  {
   "cell_type": "markdown",
   "metadata": {},
   "source": [
    "# Step 2: FDR Correction"
   ]
  },
  {
   "cell_type": "markdown",
   "metadata": {},
   "source": [
    "## FDR Correction"
   ]
  },
  {
   "cell_type": "code",
   "execution_count": 102,
   "metadata": {},
   "outputs": [],
   "source": [
    "def apply_fdr(filtered_signal, alpha):\n",
    "    p_values = 2 * (1 - norm.cdf(np.abs(filtered_signal / np.std(filtered_signal))))\n",
    "    spikes_indices, _ = fdrcorrection(p_values, alpha=alpha)\n",
    "    return spikes_indices"
   ]
  },
  {
   "cell_type": "markdown",
   "metadata": {},
   "source": [
    "### Apply FDR & spikes_idx to values & significant idx"
   ]
  },
  {
   "cell_type": "code",
   "execution_count": 103,
   "metadata": {},
   "outputs": [],
   "source": [
    "spikes_indices = apply_fdr(filtered_signal, alpha)\n",
    "spikes_values = filtered_signal[spikes_indices]\n",
    "indices = np.where(spikes_indices)[0]"
   ]
  },
  {
   "cell_type": "markdown",
   "metadata": {},
   "source": [
    "### Calculate FDR thresholds"
   ]
  },
  {
   "cell_type": "code",
   "execution_count": 105,
   "metadata": {},
   "outputs": [],
   "source": [
    "def Calculate_FDR_thresholds(spikes_values):\n",
    "    if np.any(spikes_values > 0):\n",
    "        positive_fdr = np.min(spikes_values[spikes_values > 0])\n",
    "    else:\n",
    "        positive_fdr = np.nan\n",
    "\n",
    "    if np.any(spikes_values < 0):\n",
    "        negative_fdr = np.max(spikes_values[spikes_values < 0])\n",
    "    else:\n",
    "        negative_fdr = np.nan\n",
    "    return positive_fdr, negative_fdr\n",
    "\n",
    "# Apply FDR thresholds\n",
    "positive_fdr, negative_fdr = Calculate_FDR_thresholds(spikes_values)\n"
   ]
  },
  {
   "cell_type": "markdown",
   "metadata": {},
   "source": [
    "# Step 3: Spike Detection"
   ]
  },
  {
   "cell_type": "markdown",
   "metadata": {},
   "source": [
    "### enforce_refractory for spikes_values"
   ]
  },
  {
   "cell_type": "code",
   "execution_count": 106,
   "metadata": {},
   "outputs": [],
   "source": [
    "def enforce_refractory(spikes_indices, min_distance):\n",
    "    final_spikes = []\n",
    "    last_spike = -np.inf\n",
    "    for spikes in spikes_indices:\n",
    "        if spikes - last_spike > min_distance:\n",
    "            final_spikes.append(spikes)\n",
    "            last_spike = spikes\n",
    "    return np.array(final_spikes)\n"
   ]
  },
  {
   "cell_type": "markdown",
   "metadata": {},
   "source": [
    "### sorting to signifiant pos and neg"
   ]
  },
  {
   "cell_type": "code",
   "execution_count": 107,
   "metadata": {},
   "outputs": [],
   "source": [
    "positive_indices_idx = np.where((filtered_signal >= positive_fdr) & (filtered_signal > 0))[0]\n",
    "negative_indices_idx = np.where((filtered_signal <= negative_fdr) & (filtered_signal < 0))[0]"
   ]
  },
  {
   "cell_type": "markdown",
   "metadata": {},
   "source": [
    "### Apply enforce_refractory"
   ]
  },
  {
   "cell_type": "code",
   "execution_count": 108,
   "metadata": {},
   "outputs": [],
   "source": [
    "positive_spikes_idx = enforce_refractory(positive_indices_idx, min_distance)\n",
    "negative_spikes_idx = enforce_refractory(negative_indices_idx, min_distance)"
   ]
  },
  {
   "cell_type": "markdown",
   "metadata": {},
   "source": [
    "# Step 4: Spike Characterization"
   ]
  },
  {
   "cell_type": "markdown",
   "metadata": {},
   "source": [
    "## Calculate spike peak and duration"
   ]
  },
  {
   "cell_type": "code",
   "execution_count": 109,
   "metadata": {},
   "outputs": [],
   "source": [
    "def calculate_spike_characteristics(signal, spikes_indices, positive_fdr, negative_fdr, mode=\"positive\"):\n",
    "    spike_characteristics = []\n",
    "    buffer_size = 50  # Adding buffer size for optimization\n",
    "    for spike_idx in spikes_indices:  # spike_idx is an global index in signal\n",
    "        start_spike = max(0, spike_idx - buffer_size)\n",
    "        end_spike = min(len(filtered_signal), spike_idx + buffer_size)\n",
    "        if mode == \"positive\":\n",
    "            while start_spike > 0 and filtered_signal[start_spike] > positive_fdr:\n",
    "                start_spike -= 1\n",
    "\n",
    "            while end_spike < len(filtered_signal) and filtered_signal[end_spike] > positive_fdr:\n",
    "                end_spike += 1\n",
    "\n",
    "        else:  # negative\n",
    "            while start_spike > 0 and filtered_signal[start_spike] < negative_fdr:\n",
    "                start_spike -= 1\n",
    "\n",
    "            while end_spike < len(filtered_signal) and filtered_signal[end_spike] < negative_fdr:\n",
    "                end_spike += 1\n",
    "\n",
    "        if start_spike >= end_spike:\n",
    "            continue\n",
    "\n",
    "        # finding the peak or the trough of the spikes\n",
    "        if mode == \"negative\":\n",
    "            local_peak_spike = np.argmin(filtered_signal[start_spike:end_spike]) + start_spike\n",
    "        else:\n",
    "            local_peak_spike = np.argmax(filtered_signal[start_spike:end_spike]) + start_spike\n",
    "\n",
    "        # local_peak_spike is relatiivty index compare to filtered_signal\n",
    "        peak_index = local_peak_spike\n",
    "        peak_value = filtered_signal[peak_index]\n",
    "        spike_characteristics.append(\n",
    "            {\n",
    "                \"peak_index\": peak_index,\n",
    "                \"peak\": peak_value,\n",
    "                \"duration\": end_spike - start_spike,\n",
    "                \"start_index\": start_spike,\n",
    "                \"end_index\": end_spike,\n",
    "            }\n",
    "        )\n",
    "    return spike_characteristics\n"
   ]
  },
  {
   "cell_type": "markdown",
   "metadata": {},
   "source": [
    "### Apply def locolaize spikes & peak/trough"
   ]
  },
  {
   "cell_type": "code",
   "execution_count": 110,
   "metadata": {},
   "outputs": [],
   "source": [
    "positive_spike_char = calculate_spike_characteristics(\n",
    "    filtered_signal, positive_spikes_idx, positive_fdr, negative_fdr, mode=\"positive\")\n",
    "negative_spike_char = calculate_spike_characteristics(\n",
    "    filtered_signal, negative_spikes_idx, positive_fdr, negative_fdr, mode=\"negative\")\n"
   ]
  },
  {
   "cell_type": "markdown",
   "metadata": {},
   "source": [
    "### Filtering repted spikes"
   ]
  },
  {
   "cell_type": "code",
   "execution_count": 111,
   "metadata": {},
   "outputs": [],
   "source": [
    "# pos spikes\n",
    "unique_positive_spikes = list({spike[\"peak_index\"]: spike for spike in positive_spike_char}.values())\n",
    "# neg spikes\n",
    "unique_negative_spikes = list({spike[\"peak_index\"]: spike for spike in negative_spike_char}.values())\n"
   ]
  },
  {
   "cell_type": "markdown",
   "metadata": {},
   "source": [
    "# Step 5: Visualization"
   ]
  },
  {
   "cell_type": "markdown",
   "metadata": {},
   "source": [
    "## plot signal with FDR correction spikes markers"
   ]
  },
  {
   "cell_type": "code",
   "execution_count": 99,
   "metadata": {},
   "outputs": [],
   "source": [
    "def plot_signal_with_spikes(\n",
    "    filtered_signal, unique_positive_spikes, unique_negative_spikes, positive_fdr, negative_fdr):\n",
    "    def plot(x_range):\n",
    "        x_min, x_max = x_range\n",
    "        plt.figure(figsize=(12, 6))\n",
    "        plt.plot(filtered_signal, color=\"lightblue\", label=\"Filtered Signal\")\n",
    "\n",
    "        if not np.isnan(positive_fdr):\n",
    "            plt.axhline(positive_fdr, color=\"green\", linestyle=\"--\", label=\"Positive FDR Threshold\")\n",
    "        if not np.isnan(negative_fdr):\n",
    "            plt.axhline(negative_fdr, color=\"purple\", linestyle=\"--\", label=\"Negative FDR Threshold\")\n",
    "\n",
    "        # Positive spikes\n",
    "        plt.scatter(\n",
    "            [spike[\"peak_index\"] for spike in unique_positive_spikes],\n",
    "            [spike[\"peak\"] for spike in unique_positive_spikes],\n",
    "            color=\"red\",\n",
    "            label=\"Positive Spike\" if \"Positive Spike\" not in plt.gca().get_legend_handles_labels()[1] else \"\",\n",
    "        )\n",
    "\n",
    "        # Negative spikes\n",
    "        plt.scatter(\n",
    "            [spike[\"peak_index\"] for spike in unique_negative_spikes],\n",
    "            [spike[\"peak\"] for spike in unique_negative_spikes],\n",
    "            color=\"blue\",\n",
    "            label=\"Negative Spike\" if \"Negative Spike\" not in plt.gca().get_legend_handles_labels()[1] else \"\",\n",
    "        )\n",
    "\n",
    "        plt.xlim(0, len(filtered_signal))\n",
    "        plt.title(\"Interactive Signal with Detected Spikes\")\n",
    "        plt.xlabel(\"Sample Index\")\n",
    "        plt.ylabel(\"Amplitude (µV)\")\n",
    "        plt.legend(loc=\"lower left\", fontsize=8)\n",
    "        plt.grid()\n",
    "        plt.tight_layout()\n",
    "        plt.show()\n",
    "\n",
    "    x_slider = IntRangeSlider(\n",
    "        value=[0, len(filtered_signal)],\n",
    "        min=0,\n",
    "        max=len(filtered_signal),\n",
    "        step=100,\n",
    "        description=\"X Range:\",\n",
    "        continuous_update=False,\n",
    "    )\n",
    "\n",
    "    interact(plot, x_range=x_slider)\n"
   ]
  },
  {
   "cell_type": "markdown",
   "metadata": {},
   "source": [
    "## Plot results"
   ]
  },
  {
   "cell_type": "code",
   "execution_count": 100,
   "metadata": {},
   "outputs": [
    {
     "data": {
      "application/vnd.jupyter.widget-view+json": {
       "model_id": "94a2be7bce4d4093bd911c57067cb120",
       "version_major": 2,
       "version_minor": 0
      },
      "text/plain": [
       "interactive(children=(IntRangeSlider(value=(0, 30000), continuous_update=False, description='X Range:', max=30…"
      ]
     },
     "metadata": {},
     "output_type": "display_data"
    }
   ],
   "source": [
    "plot_signal_with_spikes(filtered_signal, unique_positive_spikes, unique_negative_spikes, positive_fdr, negative_fdr)"
   ]
  },
  {
   "cell_type": "code",
   "execution_count": 90,
   "metadata": {},
   "outputs": [
    {
     "name": "stdout",
     "output_type": "stream",
     "text": [
      "Unique Positive Peak Indices: 33\n",
      "Total Positive Spikes: 94\n"
     ]
    }
   ],
   "source": [
    "positive_peak_indices = [spike[\"peak_index\"] for spike in positive_spike_char]\n",
    "print(\"Unique Positive Peak Indices:\", len(set(positive_peak_indices)))\n",
    "print(\"Total Positive Spikes:\", len(positive_peak_indices))\n"
   ]
  }
 ],
 "metadata": {
  "kernelspec": {
   "display_name": "new_env",
   "language": "python",
   "name": "python3"
  },
  "language_info": {
   "codemirror_mode": {
    "name": "ipython",
    "version": 3
   },
   "file_extension": ".py",
   "mimetype": "text/x-python",
   "name": "python",
   "nbconvert_exporter": "python",
   "pygments_lexer": "ipython3",
   "version": "3.13.0"
  }
 },
 "nbformat": 4,
 "nbformat_minor": 2
}
